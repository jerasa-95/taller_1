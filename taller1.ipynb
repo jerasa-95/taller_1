# -*- coding: utf-8 -*-
"""
Created on Sat Feb  8 18:34:49 2020

@author: Juan Esteban
"""

#%%
num = float(input('ingrese un numero : '))
if num < 0:
    num1 = num*(-1)
    print('el valor absoluto es : ',num1)
else:
    if num > 0:
        num2 = num
        print('el valor absoluto es: ',num2)
    else:
        print('el valor absoluto es : ',0)
        
#%%
     
num1 = int(input('ingrese el primer numero: '))
num2 = int(input('ingrese el segundo numero: '))
num3 = num1 - num2
def numero_primo(num):
    
    cont = 0
    
    for i in range(1, num+1):
        if num % i == 0:
            cont += 1
    if cont == 2: 
            return True
    else:
            return False      
  
       
print ('la diferencia es:',num3,
       '¿es este un numero primo? :',numero_primo(num3))

#%%

def multiplos_del_4(numero1,limite):
    
    multiplos4 = []
    
    i = 1
    multiplo4 = numero1
    
    while multiplo4 <= limite:
        multiplos4.append(multiplo4)
        i += 1
        multiplo4 = numero1 * i
    return multiplos4
    
a = multiplos_del_4(4,100)        

print('los multiplos del 4 en los primeros 100 enteros positivos son: ',a)    

def multiplos_del_3(numero2,cantidad):

     multiplos3 = []    
     j = 1         
     while len(multiplos3) <= cantidad:
         multiplo3 = numero2 * j
         multiplos3.append(multiplo3)
         j += 1
     
     return multiplos3
    
b = multiplos_del_3(3,14) 

print('los primeros 15 multiplos del 3 en los primeros 100 enteros positivos son: ',b)
    
#%%    


def distancia(x, y, a, b):
    dist = (((x - a) ** 2)+((y - b) ** 2)) ** (1 / 2)
    return dist

  
while True :
    try:
        coord_x_1 = int(input('Ingresar la coordenada en X del círculo 1: '))
        break
    except ValueError :
        print ('El valor ingresado no es correcto, intentelo de nuevo.')

while True :
    try:
        coord_y_1 = int(input('Ingresar la coordenada en Y del círculo 1: '))
        break
    except ValueError :
        print ('El valor ingresado no es correcto, intentelo de nuevo.')
        
       
while True :
    try:
        r_1 = int(input('Ingrese el radio del círculo 1: '))
        if r_1 >= 0 : break
    except ValueError :
        print ('El valor ingresado no es correcto, intente de nuevo.')


while True :
    try:
        coord_x_2 = int(input('Ingresar la coordenada en X del círculo 2: '))
        break
    except ValueError :
        print ('El valor ingresado no es correcto, intente de nuevo.')

while True :
    try:
        coord_y_2 = int(input('Ingresar la coordenada en Y del círculo 2: '))
        break
    except ValueError :
        print ('El valor ingresado no es correcto, intente de nuevo.')
        
while True :
    try:
        r_2 = int(input('Por favor ingrese el radio del círculo 2: '))
        if r_2 >= 0 : break
    except ValueError :
        print ('\nEl valor ingresado no es correcto, intente de nuevo')


    
while True :
    try:
        a = int(input('Por favor ingrese la coordenada en X del punto: '))
        break
    except ValueError :
        print ('El valor ingresado no es correcto, intente de nuevo.')

while True :
    try:
        b = int(input('Por favor ingrese la coordenada en Y del punto: '))
        break
    except ValueError :
        print ('El valor ingresado no es correcto, intente de nuevo.')
        
distancia_a_1 = distancia(coord_x_1, coord_y_1, a, b)
distancia_a_2 = distancia(coord_x_2, coord_y_2, a, b)


if distancia_a_1 <= r_1 and distancia_a_2 <= r_2:
    print ('El punto', a,',', b, 'se encuentra dentro de ambos círculos.')
    
elif distancia_a_1 > r_1 and distancia_a_2 <= r_2:
    print ('El punto', a,',', b, 'se encuentra solo dentro del círculo 2.')
    
elif distancia_a_1 <= r_1 and distancia_a_2 > r_2:
    print ('El punto', a,',', b, 'se encuentra solo dentro del círculo 1.')
    
elif distancia_a_1 > r_1 and distancia_a_2 > r_2:
    print ('El punto', a,',', b, 'no se encuentra dentro de ningún círculo.')
    

#%%
    
import keyword  
cadena = input('Ingrese una cadena de texto: ')

contador = 0
voc_mayus=['A','E','I','O','U','Á','É','Í','Ó','Ú','Ü']

for x in cadena:
    if x in voc_mayus and cadena:
        contador += 1
print('La cantidad de vocales en mayusculas son: ',contador)

contador2 = 0
voc_tildes = ['á','é','í','ó','ú','Á','É','Í','Ó','Ú']

for x in cadena:
    if x in voc_tildes and cadena:
        contador2 += 1
print('La cantidad de tildes son: ',contador2)

contador3 = 0

for x in cadena:
    if x.isdigit():
        contador3 += 1
print('La cantidad de dígitos que tiene la cadena son: ', contador3)

contador4 = 0
espacio = [' ']

for x in cadena:
    if x in espacio and cadena:
        contador4 += 1
print('La cantidad de espacios son: ', contador4)

contador5 = 0
reservadas = keyword.kwlist
cad = cadena.split()

for x in cad:
    if x in reservadas and cad:
        contador5 += 1
print('La cantidad de palabras reservadas son: ',contador5)

#%%  

a = (input('ingrese una frase: '))
a.sorted()
a.split()
print (a)

 

 
#%%
li = []

num = input('ingrese el primer numero: ')   

while num != '':
    li.append(int(num))
    num = input('siguiento numero (al terminar pusar enter): ')
    
print('su lista es: ',li)

nu = int(input('introdusca el numero para ingresar a la lista: '))
mu = int(input('introdusca el lugar donde lo desea ingresar: '))

if mu > len(li):
    print('la lista no es tan amplia')
else:
    
    li.insert(nu,mu)

for n in range(1,len(li)):
    for m in range(len(li)-n):
        if li[m] > li[m+1]:
            cont = li[m]
            li[m] = li[m+1]
            li[m+1] = cont
            
print('la lista ordenada seria: ',li) 
           
#%%

lista = []
liste = []

num = int(input('cuantos numeros tiene la lista: '))
mayor = 0
i = 1

while (num > 0):
    x = int(input('ingrese valor: '))
    lista.append(x)
    i = i + 1
    num = num - 1
    for x in lista:
        if x not in liste:
            liste.append(x)

if len(liste) <= 1:
    print ('¡no existe segundo elemento mayor! ')
else:
    mayor = max(liste)

    liste.remove(mayor)

    segu = max(liste)
 
    print('el segudo mayor de la lista es: ',segu)
    
#%%    

numero = int(input("Ingresa un numero: ")) 
pausa = int(input("Ingresa la cantidad de numeros: "))
nume=0
while numero != 1:
    nume=nume+1
    if numero % 2 == 0:  
        print("%d," % (numero), end = "")
        numero = numero / 2
    else:
        print("%d," % (numero), end = "") 
        numero = (numero * 3) + 1

    if numero == 1: 
        print("1") #
    if(nume == pausa):
        break        
    

           
#%%
anchura = int(input("Anchura del rectángulo: "))
altura = int(input("Altura del rectángulo: "))
caracter = input("caracter a utilizar: ")
for i in range(altura):
    for j in range(anchura):
        print(caracter, end="")
    print()
  
            
#%%

anchura = int(input("Anchura del triángulo: "))

for i in range(1, anchura + 1):
    for j in range(i):
        print("* ", end="")
    print()

for i in range(1, anchura):
    for j in range(anchura - i):
        print("* ", end="")
    print()            
  
            
#%%}
import random

print("resuelva estas sumas: ")

correctas = 0

while correctas < 5:
    a = random.randrange(1, 101)
    b = random.randrange(1, 101)
    respuesta = int(input(f"{a} + {b} = "))
    if respuesta == a + b:
        correctas += 1
        print("¡Respuesta correcta!")
    else:
        print("¡Respuesta incorrecta!")
        print()


#%% 
    
import random

digitos = ('0','1','2','3','4','5','6','7','8','9')

n = int(input('digame la longitud de la cadena: '))

codigo = ''
for i in range(n):
    candidato = random.choice(digitos)
   
    while candidato in codigo:
        candidato = random.choice(digitos)
    codigo = codigo + candidato

propuesta = input("¿Que codigo propones?: ")
intentos = 1
while propuesta != codigo:
    intentos = intentos + 1
    aciertos = 0
    coincidencias = 0

    for i in range(n):
        if propuesta[i] == codigo[i]:
            aciertos = aciertos + 1
        elif propuesta[i] in codigo:
            coincidencias = coincidencias + 1
    print ("Tu propuesta (", propuesta, ") tiene", aciertos, \
          "aciertos y ", coincidencias, "coincidencias.")

    propuesta = input("Propón otro codigo: ")

print ("Felicitaciones! Adivinaste el codigo en", intentos, "intentos.")    
   
   
    
    

    

